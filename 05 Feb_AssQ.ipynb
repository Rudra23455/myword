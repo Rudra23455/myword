{
 "cells": [
  {
   "cell_type": "code",
   "execution_count": 1,
   "id": "28996727-757b-4801-b9f7-bce4e1c257a8",
   "metadata": {},
   "outputs": [
    {
     "name": "stdout",
     "output_type": "stream",
     "text": [
      "A car has 4 wheels.\n",
      "Toyota Camry\n",
      "Honda Accord\n",
      "The Toyota Camry is now running.\n",
      "The Honda Accord is now running.\n",
      "The Toyota Camry has been stopped.\n"
     ]
    }
   ],
   "source": [
    "##Q1. Explain Class and Object with respect to Object-Oriented Programming. Give a suitable example.\n",
    "###In object-oriented programming (OOP), a class is a blueprint or a template for creating objects. It defines a data structure along with methods or functions that operate on that data. An object, on the other hand, is an instance of a class. It represents a real-world entity and encapsulates the data and behavior defined by the class.\n",
    "# Define a class named 'Car'\n",
    "class Car:\n",
    "    # Class variable\n",
    "    wheels = 4\n",
    "\n",
    "    # Constructor method to initialize attributes\n",
    "    def __init__(self, make, model):\n",
    "        # Instance variables\n",
    "        self.make = make\n",
    "        self.model = model\n",
    "        self.is_running = False\n",
    "\n",
    "    # Method to start the car\n",
    "    def start(self):\n",
    "        if not self.is_running:\n",
    "            print(f\"The {self.make} {self.model} is now running.\")\n",
    "            self.is_running = True\n",
    "        else:\n",
    "            print(f\"The {self.make} {self.model} is already running.\")\n",
    "\n",
    "    # Method to stop the car\n",
    "    def stop(self):\n",
    "        if self.is_running:\n",
    "            print(f\"The {self.make} {self.model} has been stopped.\")\n",
    "            self.is_running = False\n",
    "        else:\n",
    "            print(f\"The {self.make} {self.model} is already stopped.\")\n",
    "\n",
    "# Create objects (instances) of the 'Car' class\n",
    "car1 = Car(\"Toyota\", \"Camry\")\n",
    "car2 = Car(\"Honda\", \"Accord\")\n",
    "\n",
    "# Accessing class variables\n",
    "print(f\"A car has {Car.wheels} wheels.\")\n",
    "\n",
    "# Accessing instance variables\n",
    "print(f\"{car1.make} {car1.model}\")\n",
    "print(f\"{car2.make} {car2.model}\")\n",
    "\n",
    "# Using methods\n",
    "car1.start()\n",
    "car2.start()\n",
    "car1.stop()\n"
   ]
  },
  {
   "cell_type": "code",
   "execution_count": null,
   "id": "515a5616-8f36-44ce-908c-283eecb21c21",
   "metadata": {},
   "outputs": [],
   "source": [
    "###Q2. Name the four pillars of OOPs.\n",
    "###Encapsulation\n",
    "#Abstraction\n",
    "#Inheritance\n",
    "#Polymorphism"
   ]
  },
  {
   "cell_type": "code",
   "execution_count": 2,
   "id": "a90be9b7-7c4a-421f-9075-365926d61c35",
   "metadata": {},
   "outputs": [
    {
     "name": "stdout",
     "output_type": "stream",
     "text": [
      "My dog's name is Buddy and age is 3.\n",
      "Buddy says Woof!\n",
      "Buddy is eating.\n",
      "Buddy is not hungry right now.\n"
     ]
    }
   ],
   "source": [
    "#Q3. Explain why the __init__() function is used. Give a suitable example.\n",
    "\"\"\"The __init__() function, also known as the constructor, is a special method in Python classes. It is automatically called when an object is created from a class. The primary purpose of the __init__() method is to initialize the attributes of the object.\"\"\"\n",
    "class Dog:\n",
    "    # The __init__ method is the constructor\n",
    "    def __init__(self, name, age):\n",
    "        # Initializing instance variables\n",
    "        self.name = name\n",
    "        self.age = age\n",
    "        self.is_hungry = True\n",
    "\n",
    "    # Method to make the dog bark\n",
    "    def bark(self):\n",
    "        print(f\"{self.name} says Woof!\")\n",
    "\n",
    "    # Method to feed the dog\n",
    "    def eat(self):\n",
    "        if self.is_hungry:\n",
    "            print(f\"{self.name} is eating.\")\n",
    "            self.is_hungry = False\n",
    "        else:\n",
    "            print(f\"{self.name} is not hungry right now.\")\n",
    "\n",
    "# Creating an instance of the Dog class\n",
    "my_dog = Dog(name=\"Buddy\", age=3)\n",
    "\n",
    "# Accessing attributes\n",
    "print(f\"My dog's name is {my_dog.name} and age is {my_dog.age}.\")\n",
    "\n",
    "# Using methods\n",
    "my_dog.bark()\n",
    "my_dog.eat()\n",
    "my_dog.eat()\n"
   ]
  },
  {
   "cell_type": "code",
   "execution_count": null,
   "id": "e8d9d9b6-8a56-423d-b345-57bf48be3c29",
   "metadata": {},
   "outputs": [],
   "source": [
    "#Q4. Why self is used in OOPs?\n",
    "'''In object-oriented programming (OOP), self is a convention used to represent the instance of a class. It is the first parameter in the definition of instance methods in Python, including special methods such as __init__. The use of self is not mandatory, but it is a widely followed convention, and it enhances code readability and maintainability. When you call a method on an instance, Python automatically passes the instance as the first argument to the method, and by convention, this parameter is named self.'''\n",
    "\n"
   ]
  },
  {
   "cell_type": "code",
   "execution_count": null,
   "id": "a2243f8b-bf1f-44f3-a98c-691cf4ed6835",
   "metadata": {},
   "outputs": [],
   "source": [
    "#Q5. What is inheritance? Give an example for each type of inheritance.\n"
   ]
  }
 ],
 "metadata": {
  "kernelspec": {
   "display_name": "Python 3 (ipykernel)",
   "language": "python",
   "name": "python3"
  },
  "language_info": {
   "codemirror_mode": {
    "name": "ipython",
    "version": 3
   },
   "file_extension": ".py",
   "mimetype": "text/x-python",
   "name": "python",
   "nbconvert_exporter": "python",
   "pygments_lexer": "ipython3",
   "version": "3.10.8"
  }
 },
 "nbformat": 4,
 "nbformat_minor": 5
}
