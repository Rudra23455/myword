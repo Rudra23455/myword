{
 "cells": [
  {
   "cell_type": "code",
   "execution_count": 2,
   "id": "7ee9683f-208a-468e-9cf8-e349c693f700",
   "metadata": {},
   "outputs": [
    {
     "name": "stdout",
     "output_type": "stream",
     "text": [
      "This is a shape.\n",
      "Area of the circle: 78.5\n",
      "This is a shape.\n",
      "Area of the rectangle: 24\n"
     ]
    }
   ],
   "source": [
    "#Q1. What is Abstraction in OOps? Explain with an example.\n",
    "'''In object-oriented programming (OOP), abstraction is a fundamental concept that involves simplifying complex systems by modeling classes based on the essential properties and behaviors they share. Abstraction allows you to focus on the relevant details while ignoring unnecessary complexities.'''\n",
    "from abc import ABC, abstractmethod\n",
    "\n",
    "# Abstract class representing a shape\n",
    "class Shape(ABC):\n",
    "    # Abstract method for calculating area\n",
    "    @abstractmethod\n",
    "    def calculate_area(self):\n",
    "        pass\n",
    "\n",
    "    # Concrete method\n",
    "    def display(self):\n",
    "        print(\"This is a shape.\")\n",
    "\n",
    "# Concrete subclass representing a circle\n",
    "class Circle(Shape):\n",
    "    def __init__(self, radius):\n",
    "        self.radius = radius\n",
    "\n",
    "    # Implementing abstract method to calculate area for a circle\n",
    "    def calculate_area(self):\n",
    "        return 3.14 * self.radius * self.radius\n",
    "\n",
    "# Concrete subclass representing a rectangle\n",
    "class Rectangle(Shape):\n",
    "    def __init__(self, length, width):\n",
    "        self.length = length\n",
    "        self.width = width\n",
    "\n",
    "    # Implementing abstract method to calculate area for a rectangle\n",
    "    def calculate_area(self):\n",
    "        return self.length * self.width\n",
    "\n",
    "# Usage of the classes\n",
    "circle = Circle(5)\n",
    "rectangle = Rectangle(4, 6)\n",
    "\n",
    "circle.display()\n",
    "print(\"Area of the circle:\", circle.calculate_area())\n",
    "\n",
    "rectangle.display()\n",
    "print(\"Area of the rectangle:\", rectangle.calculate_area())\n"
   ]
  },
  {
   "cell_type": "code",
   "execution_count": 3,
   "id": "3e651763-5087-4623-9ce3-4479978b813e",
   "metadata": {},
   "outputs": [
    {
     "name": "stdout",
     "output_type": "stream",
     "text": [
      "Deposit of $500 successful. New balance: $1500\n",
      "Withdrawal of $200 successful. New balance: $1300\n",
      "Current balance: 1300\n"
     ]
    }
   ],
   "source": [
    "#Q2. Differentiate between Abstraction and Encapsulation. Explain with an example.\n",
    "'''Abstraction and encapsulation are two fundamental concepts in object-oriented programming (OOP) but they address different aspects of designing and structuring software.'''\n",
    "class BankAccount:\n",
    "    def __init__(self, account_holder, balance):\n",
    "        self._account_holder = account_holder  # Encapsulation: Using a protected attribute\n",
    "        self._balance = balance  # Encapsulation: Using a protected attribute\n",
    "\n",
    "    def deposit(self, amount):\n",
    "        # Encapsulation: Performing checks before updating the balance\n",
    "        if amount > 0:\n",
    "            self._balance += amount\n",
    "            print(f\"Deposit of ${amount} successful. New balance: ${self._balance}\")\n",
    "        else:\n",
    "            print(\"Invalid deposit amount.\")\n",
    "\n",
    "    def withdraw(self, amount):\n",
    "        # Encapsulation: Performing checks before updating the balance\n",
    "        if 0 < amount <= self._balance:\n",
    "            self._balance -= amount\n",
    "            print(f\"Withdrawal of ${amount} successful. New balance: ${self._balance}\")\n",
    "        else:\n",
    "            print(\"Invalid withdrawal amount.\")\n",
    "\n",
    "    def get_balance(self):\n",
    "        # Encapsulation: Providing controlled access to the balance\n",
    "        return self._balance\n",
    "\n",
    "# Usage of the BankAccount class\n",
    "account = BankAccount(\"John Doe\", 1000)\n",
    "account.deposit(500)\n",
    "account.withdraw(200)\n",
    "print(\"Current balance:\", account.get_balance())\n",
    "\n"
   ]
  },
  {
   "cell_type": "code",
   "execution_count": null,
   "id": "1098e32d-c8ec-4857-b936-af821097fb6b",
   "metadata": {},
   "outputs": [],
   "source": [
    "#Q3. What is abc module in python? Why is it used?\n",
    "'''In Python, the abc module stands for \"Abstract Base Classes.\" This module provides a mechanism for defining abstract base classes and abstract methods. Abstract base classes (ABCs) are classes that cannot be instantiated themselves but are meant to be subclassed by other classes. The primary purpose of the abc module is to facilitate abstraction in object-oriented programming and enforce a structure on derived classes.'''\n"
   ]
  },
  {
   "cell_type": "code",
   "execution_count": null,
   "id": "de71ae4e-f1fe-4deb-8441-eb5c8d2fd18b",
   "metadata": {},
   "outputs": [],
   "source": [
    "#Q4. How can we achieve data abstraction?\n",
    "#Data abstraction in programming refers to the concept of hiding the complex implementation details of data and exposing only the relevant and necessary information to the outside world. In object-oriented programming (OOP), data abstraction is often achieved through the use of abstract classes, interfaces, and access control mechanisms. Here are some key strategies for achieving data abstraction:1.Use of Abstract Classes and Interfaces ,2."
   ]
  }
 ],
 "metadata": {
  "kernelspec": {
   "display_name": "Python 3 (ipykernel)",
   "language": "python",
   "name": "python3"
  },
  "language_info": {
   "codemirror_mode": {
    "name": "ipython",
    "version": 3
   },
   "file_extension": ".py",
   "mimetype": "text/x-python",
   "name": "python",
   "nbconvert_exporter": "python",
   "pygments_lexer": "ipython3",
   "version": "3.10.8"
  }
 },
 "nbformat": 4,
 "nbformat_minor": 5
}
