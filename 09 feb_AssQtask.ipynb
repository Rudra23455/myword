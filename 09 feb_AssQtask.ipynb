{
 "cells": [
  {
   "cell_type": "code",
   "execution_count": 1,
   "id": "ed44afc7-2da6-4763-aefb-a90ce65d4ea6",
   "metadata": {},
   "outputs": [
    {
     "name": "stdout",
     "output_type": "stream",
     "text": [
      "Name: Car Model X, Max Speed: 200 km/h, Average Speed: 60 km/h\n"
     ]
    }
   ],
   "source": [
    "#Q1, Create a vehicle class with an init method having instance variables as name_of_vehicle, max_speed and average_of_vehicle.\n",
    "class Vehicle:\n",
    "    def __init__(self, name_of_vehicle, max_speed, average_speed):\n",
    "        self.name_of_vehicle = name_of_vehicle\n",
    "        self.max_speed = max_speed\n",
    "        self.average_speed = average_speed\n",
    "\n",
    "# Example usage:\n",
    "car = Vehicle(\"Car Model X\", 200, 60)\n",
    "print(f\"Name: {car.name_of_vehicle}, Max Speed: {car.max_speed} km/h, Average Speed: {car.average_speed} km/h\")\n"
   ]
  },
  {
   "cell_type": "code",
   "execution_count": 2,
   "id": "3151a785-782b-47a7-90af-dc52afe2110f",
   "metadata": {},
   "outputs": [
    {
     "name": "stdout",
     "output_type": "stream",
     "text": [
      "Name: Car Model Y, Max Speed: 180 km/h, Average Speed: 55 km/h\n",
      "Car Model Y has a seating capacity of 5 passengers.\n"
     ]
    }
   ],
   "source": [
    "'''Q2. Create a child class car from the vehicle class created in Que 1, which will inherit the vehicle class.\n",
    "Create a method named seating_capacity which takes capacity as an argument and returns the name of\n",
    "the vehicle and its seating capacity.'''\n",
    "class Car(Vehicle):\n",
    "    def __init__(self, name_of_vehicle, max_speed, average_speed):\n",
    "        super().__init__(name_of_vehicle, max_speed, average_speed)\n",
    "\n",
    "    def seating_capacity(self, capacity):\n",
    "        return f\"{self.name_of_vehicle} has a seating capacity of {capacity} passengers.\"\n",
    "\n",
    "# Example usage:\n",
    "car_instance = Car(\"Car Model Y\", 180, 55)\n",
    "print(f\"Name: {car_instance.name_of_vehicle}, Max Speed: {car_instance.max_speed} km/h, Average Speed: {car_instance.average_speed} km/h\")\n",
    "print(car_instance.seating_capacity(5))\n"
   ]
  },
  {
   "cell_type": "code",
   "execution_count": 3,
   "id": "b4f6f9dd-7f8a-408d-aa24-e24818f2d257",
   "metadata": {},
   "outputs": [
    {
     "name": "stdout",
     "output_type": "stream",
     "text": [
      "Engine started.\n",
      "Electric motor charging.\n",
      "Hybrid car is driving.\n"
     ]
    }
   ],
   "source": [
    "#Q3. What is multiple inheritance? Write a python code to demonstrate multiple inheritance.\n",
    "'''Multiple inheritance is a feature in object-oriented programming where a class can inherit attributes and methods from more than one parent class. This allows a child class to inherit from multiple classes, incorporating features from all of its parent classes.'''\n",
    "class Engine:\n",
    "    def start(self):\n",
    "        print(\"Engine started.\")\n",
    "\n",
    "class ElectricMotor:\n",
    "    def charge(self):\n",
    "        print(\"Electric motor charging.\")\n",
    "\n",
    "class HybridCar(Engine, ElectricMotor):\n",
    "    def drive(self):\n",
    "        print(\"Hybrid car is driving.\")\n",
    "\n",
    "# Example usage:\n",
    "hybrid_car = HybridCar()\n",
    "hybrid_car.start()    # Inherits from Engine class\n",
    "hybrid_car.charge()   # Inherits from ElectricMotor class\n",
    "hybrid_car.drive()    # Inherits from HybridCar class\n"
   ]
  },
  {
   "cell_type": "code",
   "execution_count": null,
   "id": "eeb99db8-2cec-47a6-9af9-f1823b0642cf",
   "metadata": {},
   "outputs": [],
   "source": []
  }
 ],
 "metadata": {
  "kernelspec": {
   "display_name": "Python 3 (ipykernel)",
   "language": "python",
   "name": "python3"
  },
  "language_info": {
   "codemirror_mode": {
    "name": "ipython",
    "version": 3
   },
   "file_extension": ".py",
   "mimetype": "text/x-python",
   "name": "python",
   "nbconvert_exporter": "python",
   "pygments_lexer": "ipython3",
   "version": "3.10.8"
  }
 },
 "nbformat": 4,
 "nbformat_minor": 5
}
