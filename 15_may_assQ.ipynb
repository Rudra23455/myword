{
 "cells": [
  {
   "cell_type": "code",
   "execution_count": null,
   "id": "a717f954",
   "metadata": {},
   "outputs": [],
   "source": [
    "#How do you comment code in Python? What are the different types of comments?\n",
    "# This is a single-line comment\n",
    "'''\n",
    "    This is multi line comments\n",
    "    Args:\n",
    "        x (int): The first number.\n",
    "        y (int): The second number.\n",
    "    Returns:\n",
    "        int: The sum of x and y.\n",
    "    '''"
   ]
  },
  {
   "cell_type": "code",
   "execution_count": 2,
   "id": "362a5076",
   "metadata": {},
   "outputs": [],
   "source": [
    "#What are variables in Python? How do you declare and assign values to variables?\n",
    "\n",
    "#You declare a variable by simply giving it a name and optionally \n",
    "my_variable = 42  # Declaring and initializing an integer variable\n",
    "name = \"John\"     # Declaring and initializing a string variable"
   ]
  },
  {
   "cell_type": "code",
   "execution_count": 3,
   "id": "0fa7b880",
   "metadata": {},
   "outputs": [
    {
     "data": {
      "text/plain": [
       "'int(): Converts a value to an integer.\\nfloat(): Converts a value to a floating-point number.\\nstr(): Converts a value to a string.\\nlist(): Converts an iterable (e.g., tuple, string) to a list.\\ntuple(): Converts an iterable (e.g., list, string) to a tuple.\\nset(): Converts an iterable (e.g., list, tuple) to a set.\\ndict(): Converts an iterable of key-value pairs (e.g., a list of tuples) to a dictionary.'"
      ]
     },
     "execution_count": 3,
     "metadata": {},
     "output_type": "execute_result"
    }
   ],
   "source": [
    "# How do you convert one data type to another in Python?\n",
    "'''int(): Converts a value to an integer.\n",
    "float(): Converts a value to a floating-point number.\n",
    "str(): Converts a value to a string.\n",
    "list(): Converts an iterable (e.g., tuple, string) to a list.\n",
    "tuple(): Converts an iterable (e.g., list, string) to a tuple.\n",
    "set(): Converts an iterable (e.g., list, tuple) to a set.\n",
    "dict(): Converts an iterable of key-value pairs (e.g., a list of tuples) to a dictionary.'''"
   ]
  },
  {
   "cell_type": "code",
   "execution_count": 14,
   "id": "d328e72f",
   "metadata": {},
   "outputs": [
    {
     "data": {
      "text/plain": [
       "'4 How do you write and execute a Python script from the command line?\\n\\nans -Open a Text Editor: like note pad the and \\n\\nWrite Your Python Script: cd path/to/your/script/directory\\nIFor example, you can create a simple \"Hello, World!\" , then Save this file with a .py extension, Open the Command Line Interface and \\nUse the cd (change directory) command to navigate to the directory where your Python script is located. For example: \\ncd path/to/your/script/directory \\nthen Execute the Python Script'"
      ]
     },
     "execution_count": 14,
     "metadata": {},
     "output_type": "execute_result"
    }
   ],
   "source": [
    "'''4 How do you write and execute a Python script from the command line?\n",
    "\n",
    "ans -Open a Text Editor: like note pad the and \n",
    "\n",
    "Write Your Python Script: cd path/to/your/script/directory\n",
    "IFor example, you can create a simple \"Hello, World!\" , then Save this file with a .py extension, Open the Command Line Interface and \n",
    "Use the cd (change directory) command to navigate to the directory where your Python script is located. For example: \n",
    "cd path/to/your/script/directory \n",
    "then Execute the Python Script'''"
   ]
  },
  {
   "cell_type": "code",
   "execution_count": 15,
   "id": "e6c7fa26",
   "metadata": {},
   "outputs": [
    {
     "name": "stdout",
     "output_type": "stream",
     "text": [
      "[2, 3]\n"
     ]
    }
   ],
   "source": [
    "#5 Given a list my_list = [1, 2, 3, 4, 5], write the code to slice the list and obtain the sub-list [2, 3].\n",
    "my_list = [1, 2, 3, 4, 5]\n",
    "sub_list = my_list[1:3]\n",
    "print(sub_list)\n"
   ]
  },
  {
   "cell_type": "code",
   "execution_count": 16,
   "id": "2c8630f3",
   "metadata": {},
   "outputs": [
    {
     "data": {
      "text/plain": [
       "'n mathematics, a complex number is a number that can be expressed in the form a + bi, where a and b are real numbers, and i is the imaginary unit, defined as the square root of -1. The real part a represents the part of the number that lies on the real number line, while the imaginary part b represents the part of the number that is scaled by i. Complex numbers are used to extend the real numbers to a broader set of numbers that can be used to solve equations that have no real solutions.'"
      ]
     },
     "execution_count": 16,
     "metadata": {},
     "output_type": "execute_result"
    }
   ],
   "source": [
    "# 6 What is a complex number in mathematics, and how is it represented in Python?\n",
    "'''n mathematics, a complex number is a number that can be expressed in the form a + bi, where a and b are real numbers, and i is the imaginary unit, defined as the square root of -1. The real part a represents the part of the number that lies on the real number line, while the imaginary part b represents the part of the number that is scaled by i. Complex numbers are used to extend the real numbers to a broader set of numbers that can be used to solve equations that have no real solutions.'''"
   ]
  },
  {
   "cell_type": "code",
   "execution_count": 17,
   "id": "be4b4d0c",
   "metadata": {},
   "outputs": [],
   "source": [
    "# What is the correct way to declare a variable named age and assign the value 25 to it?\n",
    "age = 25"
   ]
  },
  {
   "cell_type": "code",
   "execution_count": 18,
   "id": "6da5e058",
   "metadata": {},
   "outputs": [
    {
     "name": "stdout",
     "output_type": "stream",
     "text": [
      "<class 'float'>\n"
     ]
    }
   ],
   "source": [
    "# Declare a variable named price and assign the value 9.99 to it. What data type does this variable belong to?\n",
    "price = 9.99\n",
    "print(type(price))"
   ]
  },
  {
   "cell_type": "code",
   "execution_count": 19,
   "id": "e454207f",
   "metadata": {},
   "outputs": [
    {
     "name": "stdout",
     "output_type": "stream",
     "text": [
      "Rudra prosad das\n"
     ]
    }
   ],
   "source": [
    "#Create a variable named name and assign your full name to it as a string. How would you print the value of this variable?\n",
    "name =\"Rudra prosad das\"\n",
    "print(name)"
   ]
  },
  {
   "cell_type": "code",
   "execution_count": 20,
   "id": "87b3c793",
   "metadata": {},
   "outputs": [
    {
     "name": "stdout",
     "output_type": "stream",
     "text": [
      "World\n"
     ]
    }
   ],
   "source": [
    "# Given the string \"Hello, World!\", extract the substring \"World\".\n",
    "original_string = \"Hello, World!\"\n",
    "substring = original_string[7:12]\n",
    "print(substring)\n"
   ]
  },
  {
   "cell_type": "code",
   "execution_count": 22,
   "id": "9e3913ea",
   "metadata": {},
   "outputs": [],
   "source": [
    "#Create a variable named \"is_student\" and assign it a boolean value indicating whether you are currently a student or not.\n",
    "s_student = True  # Assign True if you are currently a student, or False if you are not"
   ]
  },
  {
   "cell_type": "code",
   "execution_count": null,
   "id": "ffa0ffe9",
   "metadata": {},
   "outputs": [],
   "source": []
  },
  {
   "cell_type": "code",
   "execution_count": null,
   "id": "f71ee4a9",
   "metadata": {},
   "outputs": [],
   "source": []
  }
 ],
 "metadata": {
  "kernelspec": {
   "display_name": "Python 3 (ipykernel)",
   "language": "python",
   "name": "python3"
  },
  "language_info": {
   "codemirror_mode": {
    "name": "ipython",
    "version": 3
   },
   "file_extension": ".py",
   "mimetype": "text/x-python",
   "name": "python",
   "nbconvert_exporter": "python",
   "pygments_lexer": "ipython3",
   "version": "3.10.9"
  }
 },
 "nbformat": 4,
 "nbformat_minor": 5
}
