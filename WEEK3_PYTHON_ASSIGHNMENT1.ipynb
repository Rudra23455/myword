{
 "cells": [
  {
   "cell_type": "code",
   "execution_count": null,
   "id": "a1e8ad27-458d-4b86-89ac-5b04ef3698c7",
   "metadata": {},
   "outputs": [],
   "source": [
    "#Q1. Which keyword is used to create a function? Create a function to return a list of odd numbers in the range of 1 to 25.\n",
    " \"\"\"ANS - In Python, the keyword used to create a function is def. Here's a Python function that returns a list of odd numbers in the range of 1 to 25:\"\"\""
   ]
  },
  {
   "cell_type": "code",
   "execution_count": 1,
   "id": "98ac9532-c265-4628-9404-ceffc6edd987",
   "metadata": {},
   "outputs": [],
   "source": [
    "def get_odd_numbers():\n",
    "    odd_numbers = []\n",
    "    for number in range(1, 26):\n",
    "        if number % 2 != 0:\n",
    "            odd_numbers.append(number)\n",
    "    return odd_numbers\n",
    "\n"
   ]
  },
  {
   "cell_type": "code",
   "execution_count": 2,
   "id": "a4125f3c-648d-4b0c-8cea-bc2366b07f33",
   "metadata": {},
   "outputs": [],
   "source": [
    "odd_numbers_list = get_odd_numbers()\n"
   ]
  },
  {
   "cell_type": "code",
   "execution_count": 3,
   "id": "77e021df-2539-4136-8af6-4b5f04f46cb5",
   "metadata": {},
   "outputs": [
    {
     "name": "stdout",
     "output_type": "stream",
     "text": [
      "[1, 3, 5, 7, 9, 11, 13, 15, 17, 19, 21, 23, 25]\n"
     ]
    }
   ],
   "source": [
    "print(odd_numbers_list)"
   ]
  },
  {
   "cell_type": "code",
   "execution_count": null,
   "id": "b4b0931a-95a3-4aee-8aae-9f09602d8dcf",
   "metadata": {},
   "outputs": [],
   "source": [
    "###Q2. Why *args and **kwargs is used in some functions? Create a function each for *args and **kwargs to demonstrate their use."
   ]
  },
  {
   "cell_type": "code",
   "execution_count": null,
   "id": "d153cb5d-9421-4da3-a99c-49e138c75f2f",
   "metadata": {},
   "outputs": [],
   "source": [
    "'''In Python, *args and **kwargs are used in function definitions to allow you to pass a variable number of positional arguments and keyword arguments, respectively.'''"
   ]
  },
  {
   "cell_type": "code",
   "execution_count": 9,
   "id": "70275dd5-963a-4b6f-b083-b1f0db6da605",
   "metadata": {},
   "outputs": [
    {
     "name": "stdout",
     "output_type": "stream",
     "text": [
      "1\n",
      "2\n",
      "3\n",
      "Hello\n"
     ]
    }
   ],
   "source": [
    "def print_args(*args):\n",
    "    for arg in args:\n",
    "        print(arg)\n",
    "\n",
    "# Example usage of *args\n",
    "print_args(1, 2, 3, \"Hello\")\n"
   ]
  },
  {
   "cell_type": "code",
   "execution_count": 10,
   "id": "2f2ca83a-09c3-4f5e-adf2-4921b1325ed3",
   "metadata": {},
   "outputs": [
    {
     "name": "stdout",
     "output_type": "stream",
     "text": [
      "name: Alice\n",
      "age: 30\n",
      "city: New York\n"
     ]
    }
   ],
   "source": [
    "def print_kwargs(**kwargs):\n",
    "    for key, value in kwargs.items():\n",
    "        print(f\"{key}: {value}\")\n",
    "\n",
    "# Example usage of **kwargs\n",
    "print_kwargs(name=\"Alice\", age=30, city=\"New York\")"
   ]
  },
  {
   "cell_type": "code",
   "execution_count": null,
   "id": "66fd4963-9f0b-4b8f-9c4c-a452e79d1fdf",
   "metadata": {},
   "outputs": [],
   "source": [
    "'''Q3. What is an iterator in python? Name the method used to initialise the iterator object and the methodused for iteration. Use these methods to print the first five elements of the given list [2, 4, 6, 8, 10, 12, 14,16, 18, 20].'''"
   ]
  },
  {
   "cell_type": "code",
   "execution_count": 13,
   "id": "2c03e422-3aee-47c2-bfd6-2fd73439d4cf",
   "metadata": {},
   "outputs": [
    {
     "data": {
      "text/plain": [
       "'In Python, an iterator is an object that represents a sequence of data. It allows you to traverse through the elements of a collection (e.g., a list, tuple, or dictionary) one at a time. Iterators are implemented using two methods:'"
      ]
     },
     "execution_count": 13,
     "metadata": {},
     "output_type": "execute_result"
    }
   ],
   "source": [
    "'''ans -In Python, an iterator is an object that represents a sequence of data. It allows you to traverse through the elements of a collection (e.g., a list, tuple, or dictionary) one at a time. Iterators are implemented using two methods:'''"
   ]
  },
  {
   "cell_type": "code",
   "execution_count": 18,
   "id": "24bbfa36-1749-4d51-beba-8441cd0f9a91",
   "metadata": {},
   "outputs": [
    {
     "name": "stdout",
     "output_type": "stream",
     "text": [
      "2\n",
      "4\n",
      "6\n",
      "8\n",
      "10\n"
     ]
    }
   ],
   "source": [
    "# Create an iterator from the list\n",
    "my_list = [2, 4, 6, 8, 10, 12, 14, 16, 18, 20]\n",
    "my_iterator = iter(my_list)\n",
    "\n",
    "# Use the iterator to print the first five elements\n",
    "for _ in range(5):  # Loop five times to print the first five elements\n",
    "    element = next(my_iterator)  # Get the next element from the iterator\n",
    "    print(element)\n"
   ]
  },
  {
   "cell_type": "code",
   "execution_count": null,
   "id": "44616e52-f086-4f42-8ebd-253a533410b3",
   "metadata": {},
   "outputs": [],
   "source": [
    "###Q4. What is a generator function in python? Why yield keyword is used? Give an example of a generator function.\n",
    "    "
   ]
  },
  {
   "cell_type": "code",
   "execution_count": null,
   "id": "5d4bec2d-f5dc-4f0e-9d2b-fcff91d768d5",
   "metadata": {},
   "outputs": [],
   "source": [
    "'''A generator function in Python is a special type of function that allows you to create an iterator in a more concise and memory-efficient way. Generator functions use the yield keyword to produce a series of values one at a time, allowing you to iterate over potentially large or infinite sequences without storing them entirely in memory.'''"
   ]
  },
  {
   "cell_type": "code",
   "execution_count": 19,
   "id": "7b613587-ec13-455c-bb6f-6a7d762cc63c",
   "metadata": {},
   "outputs": [
    {
     "name": "stdout",
     "output_type": "stream",
     "text": [
      "1\n",
      "4\n",
      "9\n",
      "16\n",
      "25\n"
     ]
    }
   ],
   "source": [
    "def square_numbers(limit):\n",
    "    n = 1\n",
    "    while n <= limit:\n",
    "        yield n ** 2\n",
    "        n += 1\n",
    "\n",
    "# Create a generator object\n",
    "my_generator = square_numbers(5)\n",
    "\n",
    "# Iterate over the generator and print the squares\n",
    "for square in my_generator:\n",
    "    print(square)\n"
   ]
  },
  {
   "cell_type": "code",
   "execution_count": 20,
   "id": "47a2c1af-f79d-4933-9dfa-89fdf890a34d",
   "metadata": {},
   "outputs": [],
   "source": [
    "###Q5. Create a generator function for prime numbers less than 1000. Use the next() method to print the first 20 prime numbers."
   ]
  },
  {
   "cell_type": "code",
   "execution_count": 21,
   "id": "d97fcc59-b4f2-4970-83eb-3f341cd42320",
   "metadata": {},
   "outputs": [
    {
     "name": "stdout",
     "output_type": "stream",
     "text": [
      "2\n",
      "3\n",
      "5\n",
      "7\n",
      "11\n",
      "13\n",
      "17\n",
      "19\n",
      "23\n",
      "29\n",
      "31\n",
      "37\n",
      "41\n",
      "43\n",
      "47\n",
      "53\n",
      "59\n",
      "61\n",
      "67\n",
      "71\n"
     ]
    }
   ],
   "source": [
    "def is_prime(num):\n",
    "    if num <= 1:\n",
    "        return False\n",
    "    if num <= 3:\n",
    "        return True\n",
    "    if num % 2 == 0 or num % 3 == 0:\n",
    "        return False\n",
    "    i = 5\n",
    "    while i * i <= num:\n",
    "        if num % i == 0 or num % (i + 2) == 0:\n",
    "            return False\n",
    "        i += 6\n",
    "    return True\n",
    "\n",
    "def prime_generator():\n",
    "    num = 2\n",
    "    count = 0\n",
    "    while True:\n",
    "        if is_prime(num):\n",
    "            yield num\n",
    "            count += 1\n",
    "        num += 1\n",
    "\n",
    "# Create a generator object\n",
    "prime_gen = prime_generator()\n",
    "\n",
    "# Use the next() method to print the first 20 prime numbers\n",
    "for _ in range(20):\n",
    "    prime = next(prime_gen)\n",
    "    print(prime)\n"
   ]
  },
  {
   "cell_type": "code",
   "execution_count": null,
   "id": "67017cf4-06f8-45be-babf-454a1ae61dc3",
   "metadata": {},
   "outputs": [],
   "source": [
    "###Q6. Write a python program to print the first 10 Fibonacci numbers using a while loop."
   ]
  },
  {
   "cell_type": "code",
   "execution_count": 22,
   "id": "9199ed80-96f7-4639-a631-080e2ff5f4c9",
   "metadata": {},
   "outputs": [
    {
     "name": "stdout",
     "output_type": "stream",
     "text": [
      "0 1 1 2 3 5 8 13 21 34 "
     ]
    }
   ],
   "source": [
    "# Initialize the first two Fibonacci numbers\n",
    "a, b = 0, 1\n",
    "\n",
    "# Initialize a counter\n",
    "count = 0\n",
    "\n",
    "# Use a while loop to generate and print the first 10 Fibonacci numbers\n",
    "while count < 10:\n",
    "    print(a, end=\" \")\n",
    "    # Update the Fibonacci sequence\n",
    "    a, b = b, a + b\n",
    "    count += 1\n"
   ]
  },
  {
   "cell_type": "code",
   "execution_count": null,
   "id": "64cb2dcc-0793-4108-b732-af81582ad5e6",
   "metadata": {},
   "outputs": [],
   "source": [
    "###Q7. Write a List Comprehension to iterate through the given string: ‘pwskills’. Expected output: ['p', 'w', 's', 'k', 'i', 'l', 'l', 's']"
   ]
  },
  {
   "cell_type": "code",
   "execution_count": 23,
   "id": "27aa83d5-55e8-4068-b8e2-b29b74da1368",
   "metadata": {},
   "outputs": [
    {
     "name": "stdout",
     "output_type": "stream",
     "text": [
      "['p', 'w', 's', 'k', 'i', 'l', 'l', 's']\n"
     ]
    }
   ],
   "source": [
    "input_string = 'pwskills'\n",
    "result_list = [char for char in input_string]\n",
    "print(result_list)\n"
   ]
  },
  {
   "cell_type": "code",
   "execution_count": null,
   "id": "3f58860a-82cc-47d7-bbbd-4ff98c2d1be5",
   "metadata": {},
   "outputs": [],
   "source": [
    "###Q8. Write a python program to check whether a given number is Palindrome or not using a while loop."
   ]
  },
  {
   "cell_type": "code",
   "execution_count": 24,
   "id": "3128bdb5-6f49-4dd4-a195-4244567a44ed",
   "metadata": {},
   "outputs": [
    {
     "name": "stdin",
     "output_type": "stream",
     "text": [
      "Enter a number:  5\n"
     ]
    },
    {
     "name": "stdout",
     "output_type": "stream",
     "text": [
      "5 is a palindrome.\n"
     ]
    }
   ],
   "source": [
    "def is_palindrome(number):\n",
    "    original_number = number\n",
    "    reversed_number = 0\n",
    "\n",
    "    while number > 0:\n",
    "        digit = number % 10\n",
    "        reversed_number = reversed_number * 10 + digit\n",
    "        number //= 10\n",
    "\n",
    "    return original_number == reversed_number\n",
    "\n",
    "# Input a number from the user\n",
    "num = int(input(\"Enter a number: \"))\n",
    "\n",
    "if is_palindrome(num):\n",
    "    print(f\"{num} is a palindrome.\")\n",
    "else:\n",
    "    print(f\"{num} is not a palindrome.\")\n"
   ]
  },
  {
   "cell_type": "code",
   "execution_count": null,
   "id": "418b8ccd-cf51-48bc-8989-f288685a4d87",
   "metadata": {},
   "outputs": [],
   "source": [
    "###Q9. Write a code to print odd numbers from 1 to 100 using list comprehension."
   ]
  },
  {
   "cell_type": "code",
   "execution_count": 25,
   "id": "2185fb00-2838-4c82-903c-274d5f011582",
   "metadata": {},
   "outputs": [
    {
     "name": "stdout",
     "output_type": "stream",
     "text": [
      "[1, 3, 5, 7, 9, 11, 13, 15, 17, 19, 21, 23, 25, 27, 29, 31, 33, 35, 37, 39, 41, 43, 45, 47, 49, 51, 53, 55, 57, 59, 61, 63, 65, 67, 69, 71, 73, 75, 77, 79, 81, 83, 85, 87, 89, 91, 93, 95, 97, 99]\n"
     ]
    }
   ],
   "source": [
    "odd_numbers = [x for x in range(1, 101) if x % 2 != 0]\n",
    "print(odd_numbers)\n"
   ]
  },
  {
   "cell_type": "code",
   "execution_count": null,
   "id": "1f7e9356-51d9-48eb-bfdd-477c8c07c917",
   "metadata": {},
   "outputs": [],
   "source": []
  }
 ],
 "metadata": {
  "kernelspec": {
   "display_name": "Python 3 (ipykernel)",
   "language": "python",
   "name": "python3"
  },
  "language_info": {
   "codemirror_mode": {
    "name": "ipython",
    "version": 3
   },
   "file_extension": ".py",
   "mimetype": "text/x-python",
   "name": "python",
   "nbconvert_exporter": "python",
   "pygments_lexer": "ipython3",
   "version": "3.10.8"
  }
 },
 "nbformat": 4,
 "nbformat_minor": 5
}
