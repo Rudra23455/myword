{
 "cells": [
  {
   "cell_type": "code",
   "execution_count": 9,
   "id": "ec28c944",
   "metadata": {},
   "outputs": [],
   "source": [
    "# (i) string\n",
    "my_string = \"Hello, World!\"\n",
    "\n",
    "# (ii) list\n",
    "my_list = [1, 2, 3, 4, 5]\n",
    "\n",
    "# (iii) float\n",
    "my_float = 3.26\n",
    "\n",
    "# (iv) tuple\n",
    "my_tuple = (10, 30, 50)\n",
    "\n",
    "\n",
    "\n",
    "\n",
    "\n"
   ]
  },
  {
   "cell_type": "code",
   "execution_count": 2,
   "id": "49481d47",
   "metadata": {},
   "outputs": [
    {
     "name": "stdout",
     "output_type": "stream",
     "text": [
      "Data type of var1: <class 'str'>\n",
      "Data type of var2: <class 'str'>\n",
      "Data type of var3: <class 'list'>\n",
      "Data type of var4: <class 'float'>\n"
     ]
    }
   ],
   "source": [
    "# Given variables\n",
    "var1 = ''\n",
    "var2 = '[ DS , ML , Python]'\n",
    "var3 = ['DS', 'ML', 'Python']\n",
    "var4 = 1.0\n",
    "\n",
    "# Printing data types\n",
    "print(\"Data type of var1:\", type(var1))\n",
    "print(\"Data type of var2:\", type(var2))\n",
    "print(\"Data type of var3:\", type(var3))\n",
    "print(\"Data type of var4:\", type(var4))"
   ]
  },
  {
   "cell_type": "code",
   "execution_count": 3,
   "id": "423f6554",
   "metadata": {},
   "outputs": [
    {
     "name": "stdout",
     "output_type": "stream",
     "text": [
      "3.3333333333333335\n"
     ]
    }
   ],
   "source": [
    "numerator = 10\n",
    "denominator = 3\n",
    "result = numerator / denominator\n",
    "print(result)  \n"
   ]
  },
  {
   "cell_type": "code",
   "execution_count": 4,
   "id": "f7938601",
   "metadata": {},
   "outputs": [
    {
     "name": "stdout",
     "output_type": "stream",
     "text": [
      "1\n"
     ]
    }
   ],
   "source": [
    "numerator = 10\n",
    "denominator = 3\n",
    "remainder = numerator % denominator\n",
    "print(remainder) "
   ]
  },
  {
   "cell_type": "code",
   "execution_count": 5,
   "id": "8fa583df",
   "metadata": {},
   "outputs": [
    {
     "name": "stdout",
     "output_type": "stream",
     "text": [
      "3\n"
     ]
    }
   ],
   "source": [
    "numerator = 10\n",
    "denominator = 3\n",
    "result = numerator // denominator\n",
    "print(result)  \n",
    "\n"
   ]
  },
  {
   "cell_type": "code",
   "execution_count": 6,
   "id": "ff898ae0",
   "metadata": {},
   "outputs": [
    {
     "name": "stdout",
     "output_type": "stream",
     "text": [
      "3\n"
     ]
    }
   ],
   "source": [
    "numerator = 10\n",
    "denominator = 3\n",
    "result = numerator // denominator\n",
    "print(result) \n"
   ]
  },
  {
   "cell_type": "code",
   "execution_count": 8,
   "id": "73b597a1",
   "metadata": {},
   "outputs": [
    {
     "name": "stdout",
     "output_type": "stream",
     "text": [
      "Element: 1\n",
      "Data Type: <class 'int'>\n",
      "\n",
      "Element: hello\n",
      "Data Type: <class 'str'>\n",
      "\n",
      "Element: 3.14\n",
      "Data Type: <class 'float'>\n",
      "\n",
      "Element: True\n",
      "Data Type: <class 'bool'>\n",
      "\n",
      "Element: [1, 2, 3]\n",
      "Data Type: <class 'list'>\n",
      "\n",
      "Element: {'name': 'Rahul', 'age': 30}\n",
      "Data Type: <class 'dict'>\n",
      "\n",
      "Element: (4, 5)\n",
      "Data Type: <class 'tuple'>\n",
      "\n",
      "Element: None\n",
      "Data Type: <class 'NoneType'>\n",
      "\n",
      "Element: world\n",
      "Data Type: <class 'str'>\n",
      "\n",
      "Element: False\n",
      "Data Type: <class 'bool'>\n",
      "\n"
     ]
    }
   ],
   "source": [
    "my_list = [1, \"hello\", 3.14, True, [1, 2, 3], {\"name\": \"Rahul\", \"age\": 30}, (4, 5), None, \"world\", False]\n",
    "\n",
    "for element in my_list:\n",
    "    print(\"Element:\", element)\n",
    "    print(\"Data Type:\", type(element))\n",
    "    print()  \n"
   ]
  },
  {
   "cell_type": "code",
   "execution_count": 10,
   "id": "94a4f992",
   "metadata": {},
   "outputs": [
    {
     "name": "stdout",
     "output_type": "stream",
     "text": [
      "Enter the dividend (A): 4\n",
      "Enter the divisor (B): 5\n",
      "4 is not purely divisible by 5.\n"
     ]
    }
   ],
   "source": [
    "# Taking input for number A and B\n",
    "A = int(input(\"Enter the dividend (A): \"))\n",
    "B = int(input(\"Enter the divisor (B): \"))\n",
    "\n",
    "# Initialize a variable to count the number of divisions\n",
    "count = 0\n",
    "\n",
    "# Using a while loop to perform division until A is not divisible by B\n",
    "while A >= B:\n",
    "    A = A - B\n",
    "    count += 1\n",
    "\n",
    "# Checking if A is divisible by B and printing the result\n",
    "if A == 0:\n",
    "    print(f\"{A} is purely divisible by {B}.\")\n",
    "    print(f\"It can be divided {count} times.\")\n",
    "else:\n",
    "    print(f\"{A} is not purely divisible by {B}.\")\n",
    "\n"
   ]
  },
  {
   "cell_type": "code",
   "execution_count": 11,
   "id": "06ef8373",
   "metadata": {},
   "outputs": [
    {
     "name": "stdout",
     "output_type": "stream",
     "text": [
      "5 is not divisible by 3.\n",
      "12 is divisible by 3.\n",
      "9 is divisible by 3.\n",
      "18 is divisible by 3.\n",
      "7 is not divisible by 3.\n",
      "30 is divisible by 3.\n",
      "22 is not divisible by 3.\n",
      "15 is divisible by 3.\n",
      "6 is divisible by 3.\n",
      "11 is not divisible by 3.\n",
      "27 is divisible by 3.\n",
      "42 is divisible by 3.\n",
      "8 is not divisible by 3.\n",
      "16 is not divisible by 3.\n",
      "21 is divisible by 3.\n",
      "33 is divisible by 3.\n",
      "10 is not divisible by 3.\n",
      "25 is not divisible by 3.\n",
      "36 is divisible by 3.\n",
      "14 is not divisible by 3.\n",
      "3 is divisible by 3.\n",
      "20 is not divisible by 3.\n",
      "17 is not divisible by 3.\n",
      "28 is not divisible by 3.\n",
      "13 is not divisible by 3.\n"
     ]
    }
   ],
   "source": [
    "# Creating a list of 25 integers\n",
    "int_list = [5, 12, 9, 18, 7, 30, 22, 15, 6, 11,\n",
    "            27, 42, 8, 16, 21, 33, 10, 25, 36, 14,\n",
    "            3, 20, 17, 28, 13]\n",
    "\n",
    "# Using a for loop to iterate through each element\n",
    "for num in int_list:\n",
    "    if num % 3 == 0:\n",
    "        print(f\"{num} is divisible by 3.\")\n",
    "    else:\n",
    "        print(f\"{num} is not divisible by 3.\")\n"
   ]
  },
  {
   "cell_type": "code",
   "execution_count": 12,
   "id": "13ac5f10",
   "metadata": {},
   "outputs": [
    {
     "name": "stdout",
     "output_type": "stream",
     "text": [
      "[10, 2, 3]\n",
      "{'a': 5, 'b': 2}\n",
      "Hello\n",
      "Hello World\n",
      "(1, 2, 3)\n",
      "(1, 2, 3, 4)\n"
     ]
    }
   ],
   "source": [
    "#Example with a list (mutable):\n",
    "my_list = [1, 2, 3]\n",
    "my_list[0] = 10 \n",
    "print(my_list)  \n",
    "\n",
    "#Example with a dictionary (mutable):\n",
    "my_dict = {'a': 1, 'b': 2}\n",
    "my_dict['a'] = 5  # Modify the value associated with key 'a'\n",
    "print(my_dict)  # Output: {'a': 5, 'b': 2}\n",
    "\n",
    "#Example with a string (immutable):\n",
    "my_string = \"Hello\"\n",
    "new_string = my_string + \" World\"  # Create a new string\n",
    "print(my_string)  # Output: Hello\n",
    "print(new_string)  # Output: Hello World\n",
    "\n",
    "#Example with a tuple (immutable):\n",
    "my_tuple = (1, 2, 3)\n",
    "new_tuple = my_tuple + (4,)  # Create a new tuple\n",
    "print(my_tuple)  # Output: (1, 2, 3)\n",
    "print(new_tuple)  # Output: (1, 2, 3, 4)\n",
    "\n"
   ]
  },
  {
   "cell_type": "code",
   "execution_count": null,
   "id": "2cd9a509",
   "metadata": {},
   "outputs": [],
   "source": []
  }
 ],
 "metadata": {
  "kernelspec": {
   "display_name": "Python 3 (ipykernel)",
   "language": "python",
   "name": "python3"
  },
  "language_info": {
   "codemirror_mode": {
    "name": "ipython",
    "version": 3
   },
   "file_extension": ".py",
   "mimetype": "text/x-python",
   "name": "python",
   "nbconvert_exporter": "python",
   "pygments_lexer": "ipython3",
   "version": "3.10.9"
  }
 },
 "nbformat": 4,
 "nbformat_minor": 5
}
